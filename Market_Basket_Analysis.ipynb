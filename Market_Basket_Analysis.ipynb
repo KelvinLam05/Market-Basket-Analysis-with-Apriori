{
  "nbformat": 4,
  "nbformat_minor": 0,
  "metadata": {
    "colab": {
      "name": "Market Basket Analysis.ipynb",
      "provenance": [],
      "collapsed_sections": [],
      "authorship_tag": "ABX9TyOOkqxUudwoKeU/Iv7obKFL",
      "include_colab_link": true
    },
    "kernelspec": {
      "name": "python3",
      "display_name": "Python 3"
    },
    "language_info": {
      "name": "python"
    }
  },
  "cells": [
    {
      "cell_type": "markdown",
      "metadata": {
        "id": "view-in-github",
        "colab_type": "text"
      },
      "source": [
        "<a href=\"https://colab.research.google.com/github/KelvinLam05/Market-Basket-Analysis-with-Apriori/blob/main/Market_Basket_Analysis.ipynb\" target=\"_parent\"><img src=\"https://colab.research.google.com/assets/colab-badge.svg\" alt=\"Open In Colab\"/></a>"
      ]
    },
    {
      "cell_type": "markdown",
      "metadata": {
        "id": "RzK6F81I-5e6"
      },
      "source": [
        "**Goal of the project**\n",
        "\n",
        "The aim of this project will be to identify the association rules for Market Basket Analysis."
      ]
    },
    {
      "cell_type": "markdown",
      "metadata": {
        "id": "IQ06ab8b-IIt"
      },
      "source": [
        "**Data set information**\n",
        "\n",
        "The dataset has 38765 rows of the purchase orders of people from the grocery stores. "
      ]
    },
    {
      "cell_type": "code",
      "metadata": {
        "id": "rZryrYmvqOSl"
      },
      "source": [
        "# Importing libraries\n",
        "import pandas as pd\n",
        "import numpy as np\n",
        "import seaborn as sns\n",
        "import matplotlib.pyplot as plt\n",
        "\n",
        "%matplotlib inline"
      ],
      "execution_count": null,
      "outputs": []
    },
    {
      "cell_type": "code",
      "metadata": {
        "id": "i9TSrBfBrldL"
      },
      "source": [
        "# Load dataset\n",
        "df = pd.read_csv('/content/Groceries_dataset.csv')"
      ],
      "execution_count": null,
      "outputs": []
    },
    {
      "cell_type": "code",
      "metadata": {
        "colab": {
          "base_uri": "https://localhost:8080/",
          "height": 204
        },
        "id": "MapsBskgSO0f",
        "outputId": "1f2c9555-4fad-4e01-ffdb-b3ffb84057a3"
      },
      "source": [
        "# Examine the data\n",
        "df.head()"
      ],
      "execution_count": null,
      "outputs": [
        {
          "output_type": "execute_result",
          "data": {
            "text/html": [
              "<div>\n",
              "<style scoped>\n",
              "    .dataframe tbody tr th:only-of-type {\n",
              "        vertical-align: middle;\n",
              "    }\n",
              "\n",
              "    .dataframe tbody tr th {\n",
              "        vertical-align: top;\n",
              "    }\n",
              "\n",
              "    .dataframe thead th {\n",
              "        text-align: right;\n",
              "    }\n",
              "</style>\n",
              "<table border=\"1\" class=\"dataframe\">\n",
              "  <thead>\n",
              "    <tr style=\"text-align: right;\">\n",
              "      <th></th>\n",
              "      <th>Member_number</th>\n",
              "      <th>Date</th>\n",
              "      <th>itemDescription</th>\n",
              "    </tr>\n",
              "  </thead>\n",
              "  <tbody>\n",
              "    <tr>\n",
              "      <th>0</th>\n",
              "      <td>1808</td>\n",
              "      <td>21-07-2015</td>\n",
              "      <td>tropical fruit</td>\n",
              "    </tr>\n",
              "    <tr>\n",
              "      <th>1</th>\n",
              "      <td>2552</td>\n",
              "      <td>05-01-2015</td>\n",
              "      <td>whole milk</td>\n",
              "    </tr>\n",
              "    <tr>\n",
              "      <th>2</th>\n",
              "      <td>2300</td>\n",
              "      <td>19-09-2015</td>\n",
              "      <td>pip fruit</td>\n",
              "    </tr>\n",
              "    <tr>\n",
              "      <th>3</th>\n",
              "      <td>1187</td>\n",
              "      <td>12-12-2015</td>\n",
              "      <td>other vegetables</td>\n",
              "    </tr>\n",
              "    <tr>\n",
              "      <th>4</th>\n",
              "      <td>3037</td>\n",
              "      <td>01-02-2015</td>\n",
              "      <td>whole milk</td>\n",
              "    </tr>\n",
              "  </tbody>\n",
              "</table>\n",
              "</div>"
            ],
            "text/plain": [
              "   Member_number        Date   itemDescription\n",
              "0           1808  21-07-2015    tropical fruit\n",
              "1           2552  05-01-2015        whole milk\n",
              "2           2300  19-09-2015         pip fruit\n",
              "3           1187  12-12-2015  other vegetables\n",
              "4           3037  01-02-2015        whole milk"
            ]
          },
          "metadata": {},
          "execution_count": 246
        }
      ]
    },
    {
      "cell_type": "code",
      "metadata": {
        "id": "w8YoEo3dTn4l"
      },
      "source": [
        "# Convert the column names to lower case\n",
        "df.columns = map(str.lower, df.columns)"
      ],
      "execution_count": null,
      "outputs": []
    },
    {
      "cell_type": "code",
      "metadata": {
        "colab": {
          "base_uri": "https://localhost:8080/"
        },
        "id": "hpl0thP5SSvv",
        "outputId": "fcd36e74-367d-40a9-8004-250842afd381"
      },
      "source": [
        "# Overview of all variables, their datatypes\n",
        "df.info()"
      ],
      "execution_count": null,
      "outputs": [
        {
          "output_type": "stream",
          "text": [
            "<class 'pandas.core.frame.DataFrame'>\n",
            "RangeIndex: 38765 entries, 0 to 38764\n",
            "Data columns (total 3 columns):\n",
            " #   Column           Non-Null Count  Dtype \n",
            "---  ------           --------------  ----- \n",
            " 0   member_number    38765 non-null  int64 \n",
            " 1   date             38765 non-null  object\n",
            " 2   itemdescription  38765 non-null  object\n",
            "dtypes: int64(1), object(2)\n",
            "memory usage: 908.7+ KB\n"
          ],
          "name": "stdout"
        }
      ]
    },
    {
      "cell_type": "markdown",
      "metadata": {
        "id": "a_9PVRciaHf1"
      },
      "source": [
        "Using the info function, we can pull the following information from our dataset:\n",
        "\n",
        "*   We have no missing values in our dataset"
      ]
    },
    {
      "cell_type": "code",
      "metadata": {
        "id": "IPnKTBaXSc3g"
      },
      "source": [
        "# Convert the column 'date' to datetime\n",
        "df['date'] = pd.to_datetime(df['date'])"
      ],
      "execution_count": null,
      "outputs": []
    },
    {
      "cell_type": "code",
      "metadata": {
        "colab": {
          "base_uri": "https://localhost:8080/"
        },
        "id": "jfMBTe5cTv8S",
        "outputId": "c68b8540-8e08-41bc-ad07-57d502b218f8"
      },
      "source": [
        "# Calculate the total products\n",
        "df['itemdescription'].nunique()"
      ],
      "execution_count": null,
      "outputs": [
        {
          "output_type": "execute_result",
          "data": {
            "text/plain": [
              "167"
            ]
          },
          "metadata": {},
          "execution_count": 250
        }
      ]
    },
    {
      "cell_type": "code",
      "metadata": {
        "colab": {
          "base_uri": "https://localhost:8080/",
          "height": 390
        },
        "id": "QO2HLoXbXk60",
        "outputId": "77ced5fb-f4e3-4c81-8949-d923f34b85b1"
      },
      "source": [
        "# Calculate the top 10 frequently sold products\n",
        "pd.crosstab(index = df['itemdescription'], columns = 'count').sort_values(['count'], ascending = False).head(10)"
      ],
      "execution_count": null,
      "outputs": [
        {
          "output_type": "execute_result",
          "data": {
            "text/html": [
              "<div>\n",
              "<style scoped>\n",
              "    .dataframe tbody tr th:only-of-type {\n",
              "        vertical-align: middle;\n",
              "    }\n",
              "\n",
              "    .dataframe tbody tr th {\n",
              "        vertical-align: top;\n",
              "    }\n",
              "\n",
              "    .dataframe thead th {\n",
              "        text-align: right;\n",
              "    }\n",
              "</style>\n",
              "<table border=\"1\" class=\"dataframe\">\n",
              "  <thead>\n",
              "    <tr style=\"text-align: right;\">\n",
              "      <th>col_0</th>\n",
              "      <th>count</th>\n",
              "    </tr>\n",
              "    <tr>\n",
              "      <th>itemdescription</th>\n",
              "      <th></th>\n",
              "    </tr>\n",
              "  </thead>\n",
              "  <tbody>\n",
              "    <tr>\n",
              "      <th>whole milk</th>\n",
              "      <td>2502</td>\n",
              "    </tr>\n",
              "    <tr>\n",
              "      <th>other vegetables</th>\n",
              "      <td>1898</td>\n",
              "    </tr>\n",
              "    <tr>\n",
              "      <th>rolls/buns</th>\n",
              "      <td>1716</td>\n",
              "    </tr>\n",
              "    <tr>\n",
              "      <th>soda</th>\n",
              "      <td>1514</td>\n",
              "    </tr>\n",
              "    <tr>\n",
              "      <th>yogurt</th>\n",
              "      <td>1334</td>\n",
              "    </tr>\n",
              "    <tr>\n",
              "      <th>root vegetables</th>\n",
              "      <td>1071</td>\n",
              "    </tr>\n",
              "    <tr>\n",
              "      <th>tropical fruit</th>\n",
              "      <td>1032</td>\n",
              "    </tr>\n",
              "    <tr>\n",
              "      <th>bottled water</th>\n",
              "      <td>933</td>\n",
              "    </tr>\n",
              "    <tr>\n",
              "      <th>sausage</th>\n",
              "      <td>924</td>\n",
              "    </tr>\n",
              "    <tr>\n",
              "      <th>citrus fruit</th>\n",
              "      <td>812</td>\n",
              "    </tr>\n",
              "  </tbody>\n",
              "</table>\n",
              "</div>"
            ],
            "text/plain": [
              "col_0             count\n",
              "itemdescription        \n",
              "whole milk         2502\n",
              "other vegetables   1898\n",
              "rolls/buns         1716\n",
              "soda               1514\n",
              "yogurt             1334\n",
              "root vegetables    1071\n",
              "tropical fruit     1032\n",
              "bottled water       933\n",
              "sausage             924\n",
              "citrus fruit        812"
            ]
          },
          "metadata": {},
          "execution_count": 251
        }
      ]
    },
    {
      "cell_type": "code",
      "metadata": {
        "id": "euYshQ9pXG8Q"
      },
      "source": [
        "baskets = df.groupby(['member_number', 'date'])['itemdescription'].sum()"
      ],
      "execution_count": null,
      "outputs": []
    },
    {
      "cell_type": "code",
      "metadata": {
        "colab": {
          "base_uri": "https://localhost:8080/"
        },
        "id": "2T2nWVb7d5tH",
        "outputId": "03d5e9f4-f8af-422b-f931-eae732169f14"
      },
      "source": [
        "baskets"
      ],
      "execution_count": null,
      "outputs": [
        {
          "output_type": "execute_result",
          "data": {
            "text/plain": [
              "member_number  date      \n",
              "1000           2014-06-24                   whole milkpastrysalty snack\n",
              "               2015-03-15    sausagewhole milksemi-finished breadyogurt\n",
              "               2015-05-27                        sodapickled vegetables\n",
              "               2015-07-24                    canned beermisc. beverages\n",
              "               2015-11-25                       sausagehygiene articles\n",
              "                                                ...                    \n",
              "4999           2015-05-16                 butter milkwhipped/sour cream\n",
              "               2015-12-26                            bottled waterherbs\n",
              "5000           2014-09-03                   fruit/vegetable juiceonions\n",
              "               2014-11-16                  bottled beerother vegetables\n",
              "               2015-10-02        sodaroot vegetablessemi-finished bread\n",
              "Name: itemdescription, Length: 14963, dtype: object"
            ]
          },
          "metadata": {},
          "execution_count": 253
        }
      ]
    },
    {
      "cell_type": "code",
      "metadata": {
        "id": "kNDRqYuX3xdP"
      },
      "source": [
        "# Convert the dataframe to list\n",
        "lists = df.groupby(['member_number', 'date'])['itemdescription'].apply(lambda x: list(x))"
      ],
      "execution_count": null,
      "outputs": []
    },
    {
      "cell_type": "code",
      "metadata": {
        "colab": {
          "base_uri": "https://localhost:8080/"
        },
        "id": "aZ4f5bNK49E4",
        "outputId": "b12c61ef-0158-4e69-f190-375800d5620f"
      },
      "source": [
        "lists"
      ],
      "execution_count": null,
      "outputs": [
        {
          "output_type": "execute_result",
          "data": {
            "text/plain": [
              "member_number  date      \n",
              "1000           2014-06-24                    [whole milk, pastry, salty snack]\n",
              "               2015-03-15    [sausage, whole milk, semi-finished bread, yog...\n",
              "               2015-05-27                           [soda, pickled vegetables]\n",
              "               2015-07-24                       [canned beer, misc. beverages]\n",
              "               2015-11-25                          [sausage, hygiene articles]\n",
              "                                                   ...                        \n",
              "4999           2015-05-16                    [butter milk, whipped/sour cream]\n",
              "               2015-12-26                               [bottled water, herbs]\n",
              "5000           2014-09-03                      [fruit/vegetable juice, onions]\n",
              "               2014-11-16                     [bottled beer, other vegetables]\n",
              "               2015-10-02         [soda, root vegetables, semi-finished bread]\n",
              "Name: itemdescription, Length: 14963, dtype: object"
            ]
          },
          "metadata": {},
          "execution_count": 255
        }
      ]
    },
    {
      "cell_type": "code",
      "metadata": {
        "id": "jF88ishI6Ew6"
      },
      "source": [
        "# Converting the dataframe into a list of lists \n",
        "transactions = lists.values.tolist()"
      ],
      "execution_count": null,
      "outputs": []
    },
    {
      "cell_type": "code",
      "metadata": {
        "colab": {
          "base_uri": "https://localhost:8080/"
        },
        "id": "Pij1goMD7Nz7",
        "outputId": "e7e67dd9-ab0b-4751-a51d-b511c4e97a40"
      },
      "source": [
        "transactions[:5]"
      ],
      "execution_count": null,
      "outputs": [
        {
          "output_type": "execute_result",
          "data": {
            "text/plain": [
              "[['whole milk', 'pastry', 'salty snack'],\n",
              " ['sausage', 'whole milk', 'semi-finished bread', 'yogurt'],\n",
              " ['soda', 'pickled vegetables'],\n",
              " ['canned beer', 'misc. beverages'],\n",
              " ['sausage', 'hygiene articles']]"
            ]
          },
          "metadata": {},
          "execution_count": 257
        }
      ]
    },
    {
      "cell_type": "code",
      "metadata": {
        "id": "gWrgnd2xfSel"
      },
      "source": [
        "from mlxtend.preprocessing import TransactionEncoder"
      ],
      "execution_count": null,
      "outputs": []
    },
    {
      "cell_type": "markdown",
      "metadata": {
        "id": "xJxq0th8sgm7"
      },
      "source": [
        "Using an TransactionEncoder object, we can transform this dataset into an array format suitable for typical machine learning APIs. Via the fit method, the TransactionEncoder learns the unique labels in the dataset, and via the transform method, it transforms the input dataset (a Python list of lists) into a one-hot encoded NumPy boolean array."
      ]
    },
    {
      "cell_type": "code",
      "metadata": {
        "id": "7fYXHlN6i2xo"
      },
      "source": [
        "# Applying Transaction Encoder on dataset\n",
        "te = TransactionEncoder()\n",
        "te_ary = te.fit(transactions).transform(transactions)"
      ],
      "execution_count": null,
      "outputs": []
    },
    {
      "cell_type": "code",
      "metadata": {
        "id": "fpKAYP3h8f56"
      },
      "source": [
        "# Turn the encoded array into a pandas DataFrame\n",
        "transf_df = pd.DataFrame(te_ary, columns = te.columns_)"
      ],
      "execution_count": null,
      "outputs": []
    },
    {
      "cell_type": "code",
      "metadata": {
        "colab": {
          "base_uri": "https://localhost:8080/",
          "height": 287
        },
        "id": "cizRZ77v9haF",
        "outputId": "6ea57350-5a5f-4c2a-ccca-c6d87a12d4d4"
      },
      "source": [
        "transf_df.head()"
      ],
      "execution_count": null,
      "outputs": [
        {
          "output_type": "execute_result",
          "data": {
            "text/html": [
              "<div>\n",
              "<style scoped>\n",
              "    .dataframe tbody tr th:only-of-type {\n",
              "        vertical-align: middle;\n",
              "    }\n",
              "\n",
              "    .dataframe tbody tr th {\n",
              "        vertical-align: top;\n",
              "    }\n",
              "\n",
              "    .dataframe thead th {\n",
              "        text-align: right;\n",
              "    }\n",
              "</style>\n",
              "<table border=\"1\" class=\"dataframe\">\n",
              "  <thead>\n",
              "    <tr style=\"text-align: right;\">\n",
              "      <th></th>\n",
              "      <th>Instant food products</th>\n",
              "      <th>UHT-milk</th>\n",
              "      <th>abrasive cleaner</th>\n",
              "      <th>artif. sweetener</th>\n",
              "      <th>baby cosmetics</th>\n",
              "      <th>bags</th>\n",
              "      <th>baking powder</th>\n",
              "      <th>bathroom cleaner</th>\n",
              "      <th>beef</th>\n",
              "      <th>berries</th>\n",
              "      <th>beverages</th>\n",
              "      <th>bottled beer</th>\n",
              "      <th>bottled water</th>\n",
              "      <th>brandy</th>\n",
              "      <th>brown bread</th>\n",
              "      <th>butter</th>\n",
              "      <th>butter milk</th>\n",
              "      <th>cake bar</th>\n",
              "      <th>candles</th>\n",
              "      <th>candy</th>\n",
              "      <th>canned beer</th>\n",
              "      <th>canned fish</th>\n",
              "      <th>canned fruit</th>\n",
              "      <th>canned vegetables</th>\n",
              "      <th>cat food</th>\n",
              "      <th>cereals</th>\n",
              "      <th>chewing gum</th>\n",
              "      <th>chicken</th>\n",
              "      <th>chocolate</th>\n",
              "      <th>chocolate marshmallow</th>\n",
              "      <th>citrus fruit</th>\n",
              "      <th>cleaner</th>\n",
              "      <th>cling film/bags</th>\n",
              "      <th>cocoa drinks</th>\n",
              "      <th>coffee</th>\n",
              "      <th>condensed milk</th>\n",
              "      <th>cooking chocolate</th>\n",
              "      <th>cookware</th>\n",
              "      <th>cream</th>\n",
              "      <th>cream cheese</th>\n",
              "      <th>...</th>\n",
              "      <th>salt</th>\n",
              "      <th>salty snack</th>\n",
              "      <th>sauces</th>\n",
              "      <th>sausage</th>\n",
              "      <th>seasonal products</th>\n",
              "      <th>semi-finished bread</th>\n",
              "      <th>shopping bags</th>\n",
              "      <th>skin care</th>\n",
              "      <th>sliced cheese</th>\n",
              "      <th>snack products</th>\n",
              "      <th>soap</th>\n",
              "      <th>soda</th>\n",
              "      <th>soft cheese</th>\n",
              "      <th>softener</th>\n",
              "      <th>soups</th>\n",
              "      <th>sparkling wine</th>\n",
              "      <th>specialty bar</th>\n",
              "      <th>specialty cheese</th>\n",
              "      <th>specialty chocolate</th>\n",
              "      <th>specialty fat</th>\n",
              "      <th>specialty vegetables</th>\n",
              "      <th>spices</th>\n",
              "      <th>spread cheese</th>\n",
              "      <th>sugar</th>\n",
              "      <th>sweet spreads</th>\n",
              "      <th>syrup</th>\n",
              "      <th>tea</th>\n",
              "      <th>tidbits</th>\n",
              "      <th>toilet cleaner</th>\n",
              "      <th>tropical fruit</th>\n",
              "      <th>turkey</th>\n",
              "      <th>vinegar</th>\n",
              "      <th>waffles</th>\n",
              "      <th>whipped/sour cream</th>\n",
              "      <th>whisky</th>\n",
              "      <th>white bread</th>\n",
              "      <th>white wine</th>\n",
              "      <th>whole milk</th>\n",
              "      <th>yogurt</th>\n",
              "      <th>zwieback</th>\n",
              "    </tr>\n",
              "  </thead>\n",
              "  <tbody>\n",
              "    <tr>\n",
              "      <th>0</th>\n",
              "      <td>False</td>\n",
              "      <td>False</td>\n",
              "      <td>False</td>\n",
              "      <td>False</td>\n",
              "      <td>False</td>\n",
              "      <td>False</td>\n",
              "      <td>False</td>\n",
              "      <td>False</td>\n",
              "      <td>False</td>\n",
              "      <td>False</td>\n",
              "      <td>False</td>\n",
              "      <td>False</td>\n",
              "      <td>False</td>\n",
              "      <td>False</td>\n",
              "      <td>False</td>\n",
              "      <td>False</td>\n",
              "      <td>False</td>\n",
              "      <td>False</td>\n",
              "      <td>False</td>\n",
              "      <td>False</td>\n",
              "      <td>False</td>\n",
              "      <td>False</td>\n",
              "      <td>False</td>\n",
              "      <td>False</td>\n",
              "      <td>False</td>\n",
              "      <td>False</td>\n",
              "      <td>False</td>\n",
              "      <td>False</td>\n",
              "      <td>False</td>\n",
              "      <td>False</td>\n",
              "      <td>False</td>\n",
              "      <td>False</td>\n",
              "      <td>False</td>\n",
              "      <td>False</td>\n",
              "      <td>False</td>\n",
              "      <td>False</td>\n",
              "      <td>False</td>\n",
              "      <td>False</td>\n",
              "      <td>False</td>\n",
              "      <td>False</td>\n",
              "      <td>...</td>\n",
              "      <td>False</td>\n",
              "      <td>True</td>\n",
              "      <td>False</td>\n",
              "      <td>False</td>\n",
              "      <td>False</td>\n",
              "      <td>False</td>\n",
              "      <td>False</td>\n",
              "      <td>False</td>\n",
              "      <td>False</td>\n",
              "      <td>False</td>\n",
              "      <td>False</td>\n",
              "      <td>False</td>\n",
              "      <td>False</td>\n",
              "      <td>False</td>\n",
              "      <td>False</td>\n",
              "      <td>False</td>\n",
              "      <td>False</td>\n",
              "      <td>False</td>\n",
              "      <td>False</td>\n",
              "      <td>False</td>\n",
              "      <td>False</td>\n",
              "      <td>False</td>\n",
              "      <td>False</td>\n",
              "      <td>False</td>\n",
              "      <td>False</td>\n",
              "      <td>False</td>\n",
              "      <td>False</td>\n",
              "      <td>False</td>\n",
              "      <td>False</td>\n",
              "      <td>False</td>\n",
              "      <td>False</td>\n",
              "      <td>False</td>\n",
              "      <td>False</td>\n",
              "      <td>False</td>\n",
              "      <td>False</td>\n",
              "      <td>False</td>\n",
              "      <td>False</td>\n",
              "      <td>True</td>\n",
              "      <td>False</td>\n",
              "      <td>False</td>\n",
              "    </tr>\n",
              "    <tr>\n",
              "      <th>1</th>\n",
              "      <td>False</td>\n",
              "      <td>False</td>\n",
              "      <td>False</td>\n",
              "      <td>False</td>\n",
              "      <td>False</td>\n",
              "      <td>False</td>\n",
              "      <td>False</td>\n",
              "      <td>False</td>\n",
              "      <td>False</td>\n",
              "      <td>False</td>\n",
              "      <td>False</td>\n",
              "      <td>False</td>\n",
              "      <td>False</td>\n",
              "      <td>False</td>\n",
              "      <td>False</td>\n",
              "      <td>False</td>\n",
              "      <td>False</td>\n",
              "      <td>False</td>\n",
              "      <td>False</td>\n",
              "      <td>False</td>\n",
              "      <td>False</td>\n",
              "      <td>False</td>\n",
              "      <td>False</td>\n",
              "      <td>False</td>\n",
              "      <td>False</td>\n",
              "      <td>False</td>\n",
              "      <td>False</td>\n",
              "      <td>False</td>\n",
              "      <td>False</td>\n",
              "      <td>False</td>\n",
              "      <td>False</td>\n",
              "      <td>False</td>\n",
              "      <td>False</td>\n",
              "      <td>False</td>\n",
              "      <td>False</td>\n",
              "      <td>False</td>\n",
              "      <td>False</td>\n",
              "      <td>False</td>\n",
              "      <td>False</td>\n",
              "      <td>False</td>\n",
              "      <td>...</td>\n",
              "      <td>False</td>\n",
              "      <td>False</td>\n",
              "      <td>False</td>\n",
              "      <td>True</td>\n",
              "      <td>False</td>\n",
              "      <td>True</td>\n",
              "      <td>False</td>\n",
              "      <td>False</td>\n",
              "      <td>False</td>\n",
              "      <td>False</td>\n",
              "      <td>False</td>\n",
              "      <td>False</td>\n",
              "      <td>False</td>\n",
              "      <td>False</td>\n",
              "      <td>False</td>\n",
              "      <td>False</td>\n",
              "      <td>False</td>\n",
              "      <td>False</td>\n",
              "      <td>False</td>\n",
              "      <td>False</td>\n",
              "      <td>False</td>\n",
              "      <td>False</td>\n",
              "      <td>False</td>\n",
              "      <td>False</td>\n",
              "      <td>False</td>\n",
              "      <td>False</td>\n",
              "      <td>False</td>\n",
              "      <td>False</td>\n",
              "      <td>False</td>\n",
              "      <td>False</td>\n",
              "      <td>False</td>\n",
              "      <td>False</td>\n",
              "      <td>False</td>\n",
              "      <td>False</td>\n",
              "      <td>False</td>\n",
              "      <td>False</td>\n",
              "      <td>False</td>\n",
              "      <td>True</td>\n",
              "      <td>True</td>\n",
              "      <td>False</td>\n",
              "    </tr>\n",
              "    <tr>\n",
              "      <th>2</th>\n",
              "      <td>False</td>\n",
              "      <td>False</td>\n",
              "      <td>False</td>\n",
              "      <td>False</td>\n",
              "      <td>False</td>\n",
              "      <td>False</td>\n",
              "      <td>False</td>\n",
              "      <td>False</td>\n",
              "      <td>False</td>\n",
              "      <td>False</td>\n",
              "      <td>False</td>\n",
              "      <td>False</td>\n",
              "      <td>False</td>\n",
              "      <td>False</td>\n",
              "      <td>False</td>\n",
              "      <td>False</td>\n",
              "      <td>False</td>\n",
              "      <td>False</td>\n",
              "      <td>False</td>\n",
              "      <td>False</td>\n",
              "      <td>False</td>\n",
              "      <td>False</td>\n",
              "      <td>False</td>\n",
              "      <td>False</td>\n",
              "      <td>False</td>\n",
              "      <td>False</td>\n",
              "      <td>False</td>\n",
              "      <td>False</td>\n",
              "      <td>False</td>\n",
              "      <td>False</td>\n",
              "      <td>False</td>\n",
              "      <td>False</td>\n",
              "      <td>False</td>\n",
              "      <td>False</td>\n",
              "      <td>False</td>\n",
              "      <td>False</td>\n",
              "      <td>False</td>\n",
              "      <td>False</td>\n",
              "      <td>False</td>\n",
              "      <td>False</td>\n",
              "      <td>...</td>\n",
              "      <td>False</td>\n",
              "      <td>False</td>\n",
              "      <td>False</td>\n",
              "      <td>False</td>\n",
              "      <td>False</td>\n",
              "      <td>False</td>\n",
              "      <td>False</td>\n",
              "      <td>False</td>\n",
              "      <td>False</td>\n",
              "      <td>False</td>\n",
              "      <td>False</td>\n",
              "      <td>True</td>\n",
              "      <td>False</td>\n",
              "      <td>False</td>\n",
              "      <td>False</td>\n",
              "      <td>False</td>\n",
              "      <td>False</td>\n",
              "      <td>False</td>\n",
              "      <td>False</td>\n",
              "      <td>False</td>\n",
              "      <td>False</td>\n",
              "      <td>False</td>\n",
              "      <td>False</td>\n",
              "      <td>False</td>\n",
              "      <td>False</td>\n",
              "      <td>False</td>\n",
              "      <td>False</td>\n",
              "      <td>False</td>\n",
              "      <td>False</td>\n",
              "      <td>False</td>\n",
              "      <td>False</td>\n",
              "      <td>False</td>\n",
              "      <td>False</td>\n",
              "      <td>False</td>\n",
              "      <td>False</td>\n",
              "      <td>False</td>\n",
              "      <td>False</td>\n",
              "      <td>False</td>\n",
              "      <td>False</td>\n",
              "      <td>False</td>\n",
              "    </tr>\n",
              "    <tr>\n",
              "      <th>3</th>\n",
              "      <td>False</td>\n",
              "      <td>False</td>\n",
              "      <td>False</td>\n",
              "      <td>False</td>\n",
              "      <td>False</td>\n",
              "      <td>False</td>\n",
              "      <td>False</td>\n",
              "      <td>False</td>\n",
              "      <td>False</td>\n",
              "      <td>False</td>\n",
              "      <td>False</td>\n",
              "      <td>False</td>\n",
              "      <td>False</td>\n",
              "      <td>False</td>\n",
              "      <td>False</td>\n",
              "      <td>False</td>\n",
              "      <td>False</td>\n",
              "      <td>False</td>\n",
              "      <td>False</td>\n",
              "      <td>False</td>\n",
              "      <td>True</td>\n",
              "      <td>False</td>\n",
              "      <td>False</td>\n",
              "      <td>False</td>\n",
              "      <td>False</td>\n",
              "      <td>False</td>\n",
              "      <td>False</td>\n",
              "      <td>False</td>\n",
              "      <td>False</td>\n",
              "      <td>False</td>\n",
              "      <td>False</td>\n",
              "      <td>False</td>\n",
              "      <td>False</td>\n",
              "      <td>False</td>\n",
              "      <td>False</td>\n",
              "      <td>False</td>\n",
              "      <td>False</td>\n",
              "      <td>False</td>\n",
              "      <td>False</td>\n",
              "      <td>False</td>\n",
              "      <td>...</td>\n",
              "      <td>False</td>\n",
              "      <td>False</td>\n",
              "      <td>False</td>\n",
              "      <td>False</td>\n",
              "      <td>False</td>\n",
              "      <td>False</td>\n",
              "      <td>False</td>\n",
              "      <td>False</td>\n",
              "      <td>False</td>\n",
              "      <td>False</td>\n",
              "      <td>False</td>\n",
              "      <td>False</td>\n",
              "      <td>False</td>\n",
              "      <td>False</td>\n",
              "      <td>False</td>\n",
              "      <td>False</td>\n",
              "      <td>False</td>\n",
              "      <td>False</td>\n",
              "      <td>False</td>\n",
              "      <td>False</td>\n",
              "      <td>False</td>\n",
              "      <td>False</td>\n",
              "      <td>False</td>\n",
              "      <td>False</td>\n",
              "      <td>False</td>\n",
              "      <td>False</td>\n",
              "      <td>False</td>\n",
              "      <td>False</td>\n",
              "      <td>False</td>\n",
              "      <td>False</td>\n",
              "      <td>False</td>\n",
              "      <td>False</td>\n",
              "      <td>False</td>\n",
              "      <td>False</td>\n",
              "      <td>False</td>\n",
              "      <td>False</td>\n",
              "      <td>False</td>\n",
              "      <td>False</td>\n",
              "      <td>False</td>\n",
              "      <td>False</td>\n",
              "    </tr>\n",
              "    <tr>\n",
              "      <th>4</th>\n",
              "      <td>False</td>\n",
              "      <td>False</td>\n",
              "      <td>False</td>\n",
              "      <td>False</td>\n",
              "      <td>False</td>\n",
              "      <td>False</td>\n",
              "      <td>False</td>\n",
              "      <td>False</td>\n",
              "      <td>False</td>\n",
              "      <td>False</td>\n",
              "      <td>False</td>\n",
              "      <td>False</td>\n",
              "      <td>False</td>\n",
              "      <td>False</td>\n",
              "      <td>False</td>\n",
              "      <td>False</td>\n",
              "      <td>False</td>\n",
              "      <td>False</td>\n",
              "      <td>False</td>\n",
              "      <td>False</td>\n",
              "      <td>False</td>\n",
              "      <td>False</td>\n",
              "      <td>False</td>\n",
              "      <td>False</td>\n",
              "      <td>False</td>\n",
              "      <td>False</td>\n",
              "      <td>False</td>\n",
              "      <td>False</td>\n",
              "      <td>False</td>\n",
              "      <td>False</td>\n",
              "      <td>False</td>\n",
              "      <td>False</td>\n",
              "      <td>False</td>\n",
              "      <td>False</td>\n",
              "      <td>False</td>\n",
              "      <td>False</td>\n",
              "      <td>False</td>\n",
              "      <td>False</td>\n",
              "      <td>False</td>\n",
              "      <td>False</td>\n",
              "      <td>...</td>\n",
              "      <td>False</td>\n",
              "      <td>False</td>\n",
              "      <td>False</td>\n",
              "      <td>True</td>\n",
              "      <td>False</td>\n",
              "      <td>False</td>\n",
              "      <td>False</td>\n",
              "      <td>False</td>\n",
              "      <td>False</td>\n",
              "      <td>False</td>\n",
              "      <td>False</td>\n",
              "      <td>False</td>\n",
              "      <td>False</td>\n",
              "      <td>False</td>\n",
              "      <td>False</td>\n",
              "      <td>False</td>\n",
              "      <td>False</td>\n",
              "      <td>False</td>\n",
              "      <td>False</td>\n",
              "      <td>False</td>\n",
              "      <td>False</td>\n",
              "      <td>False</td>\n",
              "      <td>False</td>\n",
              "      <td>False</td>\n",
              "      <td>False</td>\n",
              "      <td>False</td>\n",
              "      <td>False</td>\n",
              "      <td>False</td>\n",
              "      <td>False</td>\n",
              "      <td>False</td>\n",
              "      <td>False</td>\n",
              "      <td>False</td>\n",
              "      <td>False</td>\n",
              "      <td>False</td>\n",
              "      <td>False</td>\n",
              "      <td>False</td>\n",
              "      <td>False</td>\n",
              "      <td>False</td>\n",
              "      <td>False</td>\n",
              "      <td>False</td>\n",
              "    </tr>\n",
              "  </tbody>\n",
              "</table>\n",
              "<p>5 rows × 167 columns</p>\n",
              "</div>"
            ],
            "text/plain": [
              "   Instant food products  UHT-milk  ...  yogurt  zwieback\n",
              "0                  False     False  ...   False     False\n",
              "1                  False     False  ...    True     False\n",
              "2                  False     False  ...   False     False\n",
              "3                  False     False  ...   False     False\n",
              "4                  False     False  ...   False     False\n",
              "\n",
              "[5 rows x 167 columns]"
            ]
          },
          "metadata": {},
          "execution_count": 261
        }
      ]
    },
    {
      "cell_type": "code",
      "metadata": {
        "colab": {
          "base_uri": "https://localhost:8080/"
        },
        "id": "ggHsoB-3_APT",
        "outputId": "d80a4701-7b48-430b-dadd-aa93d747c4ba"
      },
      "source": [
        "# Check column names \n",
        "transf_df.columns"
      ],
      "execution_count": null,
      "outputs": [
        {
          "output_type": "execute_result",
          "data": {
            "text/plain": [
              "Index(['Instant food products', 'UHT-milk', 'abrasive cleaner',\n",
              "       'artif. sweetener', 'baby cosmetics', 'bags', 'baking powder',\n",
              "       'bathroom cleaner', 'beef', 'berries',\n",
              "       ...\n",
              "       'turkey', 'vinegar', 'waffles', 'whipped/sour cream', 'whisky',\n",
              "       'white bread', 'white wine', 'whole milk', 'yogurt', 'zwieback'],\n",
              "      dtype='object', length=167)"
            ]
          },
          "metadata": {},
          "execution_count": 262
        }
      ]
    },
    {
      "cell_type": "code",
      "metadata": {
        "id": "iw_DgZke9tWX"
      },
      "source": [
        "from mlxtend.frequent_patterns import apriori, association_rules"
      ],
      "execution_count": null,
      "outputs": []
    },
    {
      "cell_type": "code",
      "metadata": {
        "id": "NtER_sq9-JdJ"
      },
      "source": [
        "# I chose 0.005 minimum support\n",
        "frequent_itemsets = apriori(transf_df, min_support = 0.005, use_colnames = True)"
      ],
      "execution_count": null,
      "outputs": []
    },
    {
      "cell_type": "code",
      "metadata": {
        "colab": {
          "base_uri": "https://localhost:8080/",
          "height": 419
        },
        "id": "eborycbm_x9n",
        "outputId": "7b7c9853-84de-4a49-fe3b-c924585cea06"
      },
      "source": [
        "frequent_itemsets"
      ],
      "execution_count": null,
      "outputs": [
        {
          "output_type": "execute_result",
          "data": {
            "text/html": [
              "<div>\n",
              "<style scoped>\n",
              "    .dataframe tbody tr th:only-of-type {\n",
              "        vertical-align: middle;\n",
              "    }\n",
              "\n",
              "    .dataframe tbody tr th {\n",
              "        vertical-align: top;\n",
              "    }\n",
              "\n",
              "    .dataframe thead th {\n",
              "        text-align: right;\n",
              "    }\n",
              "</style>\n",
              "<table border=\"1\" class=\"dataframe\">\n",
              "  <thead>\n",
              "    <tr style=\"text-align: right;\">\n",
              "      <th></th>\n",
              "      <th>support</th>\n",
              "      <th>itemsets</th>\n",
              "    </tr>\n",
              "  </thead>\n",
              "  <tbody>\n",
              "    <tr>\n",
              "      <th>0</th>\n",
              "      <td>0.021386</td>\n",
              "      <td>(UHT-milk)</td>\n",
              "    </tr>\n",
              "    <tr>\n",
              "      <th>1</th>\n",
              "      <td>0.008087</td>\n",
              "      <td>(baking powder)</td>\n",
              "    </tr>\n",
              "    <tr>\n",
              "      <th>2</th>\n",
              "      <td>0.033950</td>\n",
              "      <td>(beef)</td>\n",
              "    </tr>\n",
              "    <tr>\n",
              "      <th>3</th>\n",
              "      <td>0.021787</td>\n",
              "      <td>(berries)</td>\n",
              "    </tr>\n",
              "    <tr>\n",
              "      <th>4</th>\n",
              "      <td>0.016574</td>\n",
              "      <td>(beverages)</td>\n",
              "    </tr>\n",
              "    <tr>\n",
              "      <th>...</th>\n",
              "      <td>...</td>\n",
              "      <td>...</td>\n",
              "    </tr>\n",
              "    <tr>\n",
              "      <th>121</th>\n",
              "      <td>0.011629</td>\n",
              "      <td>(whole milk, soda)</td>\n",
              "    </tr>\n",
              "    <tr>\n",
              "      <th>122</th>\n",
              "      <td>0.005814</td>\n",
              "      <td>(yogurt, soda)</td>\n",
              "    </tr>\n",
              "    <tr>\n",
              "      <th>123</th>\n",
              "      <td>0.008220</td>\n",
              "      <td>(whole milk, tropical fruit)</td>\n",
              "    </tr>\n",
              "    <tr>\n",
              "      <th>124</th>\n",
              "      <td>0.005213</td>\n",
              "      <td>(yogurt, tropical fruit)</td>\n",
              "    </tr>\n",
              "    <tr>\n",
              "      <th>125</th>\n",
              "      <td>0.011161</td>\n",
              "      <td>(whole milk, yogurt)</td>\n",
              "    </tr>\n",
              "  </tbody>\n",
              "</table>\n",
              "<p>126 rows × 2 columns</p>\n",
              "</div>"
            ],
            "text/plain": [
              "      support                      itemsets\n",
              "0    0.021386                    (UHT-milk)\n",
              "1    0.008087               (baking powder)\n",
              "2    0.033950                        (beef)\n",
              "3    0.021787                     (berries)\n",
              "4    0.016574                   (beverages)\n",
              "..        ...                           ...\n",
              "121  0.011629            (whole milk, soda)\n",
              "122  0.005814                (yogurt, soda)\n",
              "123  0.008220  (whole milk, tropical fruit)\n",
              "124  0.005213      (yogurt, tropical fruit)\n",
              "125  0.011161          (whole milk, yogurt)\n",
              "\n",
              "[126 rows x 2 columns]"
            ]
          },
          "metadata": {},
          "execution_count": 265
        }
      ]
    },
    {
      "cell_type": "code",
      "metadata": {
        "id": "niXd7FW8A-QK"
      },
      "source": [
        "# Examining the frequent itemsets\n",
        "frequent_itemsets['length'] = frequent_itemsets['itemsets'].apply(lambda x: len(x))"
      ],
      "execution_count": null,
      "outputs": []
    },
    {
      "cell_type": "code",
      "metadata": {
        "colab": {
          "base_uri": "https://localhost:8080/",
          "height": 204
        },
        "id": "cew_XVJgCYay",
        "outputId": "57b97f34-c94f-4d24-b027-74ac0f986d54"
      },
      "source": [
        "frequent_itemsets.head(5)"
      ],
      "execution_count": null,
      "outputs": [
        {
          "output_type": "execute_result",
          "data": {
            "text/html": [
              "<div>\n",
              "<style scoped>\n",
              "    .dataframe tbody tr th:only-of-type {\n",
              "        vertical-align: middle;\n",
              "    }\n",
              "\n",
              "    .dataframe tbody tr th {\n",
              "        vertical-align: top;\n",
              "    }\n",
              "\n",
              "    .dataframe thead th {\n",
              "        text-align: right;\n",
              "    }\n",
              "</style>\n",
              "<table border=\"1\" class=\"dataframe\">\n",
              "  <thead>\n",
              "    <tr style=\"text-align: right;\">\n",
              "      <th></th>\n",
              "      <th>support</th>\n",
              "      <th>itemsets</th>\n",
              "      <th>length</th>\n",
              "    </tr>\n",
              "  </thead>\n",
              "  <tbody>\n",
              "    <tr>\n",
              "      <th>0</th>\n",
              "      <td>0.021386</td>\n",
              "      <td>(UHT-milk)</td>\n",
              "      <td>1</td>\n",
              "    </tr>\n",
              "    <tr>\n",
              "      <th>1</th>\n",
              "      <td>0.008087</td>\n",
              "      <td>(baking powder)</td>\n",
              "      <td>1</td>\n",
              "    </tr>\n",
              "    <tr>\n",
              "      <th>2</th>\n",
              "      <td>0.033950</td>\n",
              "      <td>(beef)</td>\n",
              "      <td>1</td>\n",
              "    </tr>\n",
              "    <tr>\n",
              "      <th>3</th>\n",
              "      <td>0.021787</td>\n",
              "      <td>(berries)</td>\n",
              "      <td>1</td>\n",
              "    </tr>\n",
              "    <tr>\n",
              "      <th>4</th>\n",
              "      <td>0.016574</td>\n",
              "      <td>(beverages)</td>\n",
              "      <td>1</td>\n",
              "    </tr>\n",
              "  </tbody>\n",
              "</table>\n",
              "</div>"
            ],
            "text/plain": [
              "    support         itemsets  length\n",
              "0  0.021386       (UHT-milk)       1\n",
              "1  0.008087  (baking powder)       1\n",
              "2  0.033950           (beef)       1\n",
              "3  0.021787        (berries)       1\n",
              "4  0.016574      (beverages)       1"
            ]
          },
          "metadata": {},
          "execution_count": 267
        }
      ]
    },
    {
      "cell_type": "code",
      "metadata": {
        "colab": {
          "base_uri": "https://localhost:8080/",
          "height": 204
        },
        "id": "X_rVqoWZChid",
        "outputId": "1c6fcfde-75c7-4b54-bdbe-29a1d5ed1220"
      },
      "source": [
        "frequent_itemsets.tail(5)"
      ],
      "execution_count": null,
      "outputs": [
        {
          "output_type": "execute_result",
          "data": {
            "text/html": [
              "<div>\n",
              "<style scoped>\n",
              "    .dataframe tbody tr th:only-of-type {\n",
              "        vertical-align: middle;\n",
              "    }\n",
              "\n",
              "    .dataframe tbody tr th {\n",
              "        vertical-align: top;\n",
              "    }\n",
              "\n",
              "    .dataframe thead th {\n",
              "        text-align: right;\n",
              "    }\n",
              "</style>\n",
              "<table border=\"1\" class=\"dataframe\">\n",
              "  <thead>\n",
              "    <tr style=\"text-align: right;\">\n",
              "      <th></th>\n",
              "      <th>support</th>\n",
              "      <th>itemsets</th>\n",
              "      <th>length</th>\n",
              "    </tr>\n",
              "  </thead>\n",
              "  <tbody>\n",
              "    <tr>\n",
              "      <th>121</th>\n",
              "      <td>0.011629</td>\n",
              "      <td>(whole milk, soda)</td>\n",
              "      <td>2</td>\n",
              "    </tr>\n",
              "    <tr>\n",
              "      <th>122</th>\n",
              "      <td>0.005814</td>\n",
              "      <td>(yogurt, soda)</td>\n",
              "      <td>2</td>\n",
              "    </tr>\n",
              "    <tr>\n",
              "      <th>123</th>\n",
              "      <td>0.008220</td>\n",
              "      <td>(whole milk, tropical fruit)</td>\n",
              "      <td>2</td>\n",
              "    </tr>\n",
              "    <tr>\n",
              "      <th>124</th>\n",
              "      <td>0.005213</td>\n",
              "      <td>(yogurt, tropical fruit)</td>\n",
              "      <td>2</td>\n",
              "    </tr>\n",
              "    <tr>\n",
              "      <th>125</th>\n",
              "      <td>0.011161</td>\n",
              "      <td>(whole milk, yogurt)</td>\n",
              "      <td>2</td>\n",
              "    </tr>\n",
              "  </tbody>\n",
              "</table>\n",
              "</div>"
            ],
            "text/plain": [
              "      support                      itemsets  length\n",
              "121  0.011629            (whole milk, soda)       2\n",
              "122  0.005814                (yogurt, soda)       2\n",
              "123  0.008220  (whole milk, tropical fruit)       2\n",
              "124  0.005213      (yogurt, tropical fruit)       2\n",
              "125  0.011161          (whole milk, yogurt)       2"
            ]
          },
          "metadata": {},
          "execution_count": 268
        }
      ]
    },
    {
      "cell_type": "markdown",
      "metadata": {
        "id": "XzHrgCw-oAot"
      },
      "source": [
        "In total we got 126 rules with 0.005 minimum support."
      ]
    },
    {
      "cell_type": "markdown",
      "metadata": {
        "id": "SruEpfs8pA3n"
      },
      "source": [
        "If we print the value_counts( ) for the length column we will see that we get back a number of itemsets that contain multiple items and which contain single items."
      ]
    },
    {
      "cell_type": "code",
      "metadata": {
        "colab": {
          "base_uri": "https://localhost:8080/"
        },
        "id": "5H17SnsND7tJ",
        "outputId": "03003bc1-97a9-4710-d048-2e051398b765"
      },
      "source": [
        "frequent_itemsets['length'].value_counts()"
      ],
      "execution_count": null,
      "outputs": [
        {
          "output_type": "execute_result",
          "data": {
            "text/plain": [
              "1    89\n",
              "2    37\n",
              "Name: length, dtype: int64"
            ]
          },
          "metadata": {},
          "execution_count": 269
        }
      ]
    },
    {
      "cell_type": "markdown",
      "metadata": {
        "id": "AqmMBKk8qeR1"
      },
      "source": [
        "How to measure the association rules?\n",
        "\n",
        "1. **Support** how frequent an item-set is in all transactions. The ratio of the number of transactions in which item x appears to the total number of transactions.\n",
        "\n",
        "2. **Confidence** how likely items are purchased together. The likelihood of item y being purchased when the item x is purchased.\n",
        "\n",
        "3. **Lift** how likely item Y is purchased when item X is purchased, while controlling for how popular item Y is."
      ]
    },
    {
      "cell_type": "markdown",
      "metadata": {
        "id": "fw-pTn5llbTs"
      },
      "source": [
        "A lift of over 1 is a strong sign that sales of the antecedent influence the consequent."
      ]
    },
    {
      "cell_type": "code",
      "metadata": {
        "id": "hR4TBuHxClvI"
      },
      "source": [
        "# Calculate association rules\n",
        "rules = association_rules(frequent_itemsets, metric = 'lift', min_threshold = 1)"
      ],
      "execution_count": null,
      "outputs": []
    },
    {
      "cell_type": "code",
      "metadata": {
        "colab": {
          "base_uri": "https://localhost:8080/",
          "height": 204
        },
        "id": "bsFdj-nKh1fs",
        "outputId": "f16f7ba5-abb3-49fe-ac06-987c20732242"
      },
      "source": [
        "rules.head()"
      ],
      "execution_count": null,
      "outputs": [
        {
          "output_type": "execute_result",
          "data": {
            "text/html": [
              "<div>\n",
              "<style scoped>\n",
              "    .dataframe tbody tr th:only-of-type {\n",
              "        vertical-align: middle;\n",
              "    }\n",
              "\n",
              "    .dataframe tbody tr th {\n",
              "        vertical-align: top;\n",
              "    }\n",
              "\n",
              "    .dataframe thead th {\n",
              "        text-align: right;\n",
              "    }\n",
              "</style>\n",
              "<table border=\"1\" class=\"dataframe\">\n",
              "  <thead>\n",
              "    <tr style=\"text-align: right;\">\n",
              "      <th></th>\n",
              "      <th>antecedents</th>\n",
              "      <th>consequents</th>\n",
              "      <th>antecedent support</th>\n",
              "      <th>consequent support</th>\n",
              "      <th>support</th>\n",
              "      <th>confidence</th>\n",
              "      <th>lift</th>\n",
              "      <th>leverage</th>\n",
              "      <th>conviction</th>\n",
              "    </tr>\n",
              "  </thead>\n",
              "  <tbody>\n",
              "    <tr>\n",
              "      <th>0</th>\n",
              "      <td>(frankfurter)</td>\n",
              "      <td>(other vegetables)</td>\n",
              "      <td>0.037760</td>\n",
              "      <td>0.122101</td>\n",
              "      <td>0.005146</td>\n",
              "      <td>0.136283</td>\n",
              "      <td>1.116150</td>\n",
              "      <td>0.000536</td>\n",
              "      <td>1.016420</td>\n",
              "    </tr>\n",
              "    <tr>\n",
              "      <th>1</th>\n",
              "      <td>(other vegetables)</td>\n",
              "      <td>(frankfurter)</td>\n",
              "      <td>0.122101</td>\n",
              "      <td>0.037760</td>\n",
              "      <td>0.005146</td>\n",
              "      <td>0.042146</td>\n",
              "      <td>1.116150</td>\n",
              "      <td>0.000536</td>\n",
              "      <td>1.004579</td>\n",
              "    </tr>\n",
              "    <tr>\n",
              "      <th>2</th>\n",
              "      <td>(soda)</td>\n",
              "      <td>(sausage)</td>\n",
              "      <td>0.097106</td>\n",
              "      <td>0.060349</td>\n",
              "      <td>0.005948</td>\n",
              "      <td>0.061253</td>\n",
              "      <td>1.014975</td>\n",
              "      <td>0.000088</td>\n",
              "      <td>1.000963</td>\n",
              "    </tr>\n",
              "    <tr>\n",
              "      <th>3</th>\n",
              "      <td>(sausage)</td>\n",
              "      <td>(soda)</td>\n",
              "      <td>0.060349</td>\n",
              "      <td>0.097106</td>\n",
              "      <td>0.005948</td>\n",
              "      <td>0.098560</td>\n",
              "      <td>1.014975</td>\n",
              "      <td>0.000088</td>\n",
              "      <td>1.001613</td>\n",
              "    </tr>\n",
              "    <tr>\n",
              "      <th>4</th>\n",
              "      <td>(yogurt)</td>\n",
              "      <td>(sausage)</td>\n",
              "      <td>0.085879</td>\n",
              "      <td>0.060349</td>\n",
              "      <td>0.005748</td>\n",
              "      <td>0.066926</td>\n",
              "      <td>1.108986</td>\n",
              "      <td>0.000565</td>\n",
              "      <td>1.007049</td>\n",
              "    </tr>\n",
              "  </tbody>\n",
              "</table>\n",
              "</div>"
            ],
            "text/plain": [
              "          antecedents         consequents  ...  leverage  conviction\n",
              "0       (frankfurter)  (other vegetables)  ...  0.000536    1.016420\n",
              "1  (other vegetables)       (frankfurter)  ...  0.000536    1.004579\n",
              "2              (soda)           (sausage)  ...  0.000088    1.000963\n",
              "3           (sausage)              (soda)  ...  0.000088    1.001613\n",
              "4            (yogurt)           (sausage)  ...  0.000565    1.007049\n",
              "\n",
              "[5 rows x 9 columns]"
            ]
          },
          "metadata": {},
          "execution_count": 271
        }
      ]
    },
    {
      "cell_type": "markdown",
      "metadata": {
        "id": "L5h8kdAaJFI-"
      },
      "source": [
        "We can interpret the result of the first rule as:\n",
        "\n",
        "* The support is 0.005 calculated by dividing the number of transactions    containing frankfurter and other vegetables by the total number of transactions.\n",
        "\n",
        "* The confidence level is 0.136 shows that out of all the transactions that contain frankfurter 0.136 contain other vegetables too.\n",
        "\n",
        "* The lift 1.116 tells us that other vegetables is 1.116 times more likely to be bought by the customer who also buys frankfurter."
      ]
    },
    {
      "cell_type": "markdown",
      "metadata": {
        "id": "heUu7uvDfeKk"
      },
      "source": [
        "As a result, if item X and Y are bought together more frequently, then several steps can be taken to increase the profit. For instance:\n",
        "\n",
        "* Cross-Selling can be improved by combining products - items\n",
        "\n",
        "* The shop layout can be changed so that sales can be improved when certain items are kept together.\n",
        "\n",
        "* Promotional activities which are an advertising campaign can be carried out to increase the sales of goods that customers do not buy.\n",
        "\n",
        "* Collective discounts can be offered on these products if the customer buys both of them."
      ]
    }
  ]
}